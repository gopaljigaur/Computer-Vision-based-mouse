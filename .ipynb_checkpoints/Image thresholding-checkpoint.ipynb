{
 "cells": [
  {
   "cell_type": "code",
   "execution_count": 2,
   "metadata": {},
   "outputs": [],
   "source": [
    "import numpy as np\n",
    "import cv2 as cv"
   ]
  },
  {
   "cell_type": "code",
   "execution_count": 3,
   "metadata": {},
   "outputs": [],
   "source": [
    "#binary thresholding\n",
    "img= cv.imread('hazard10.jpg')\n",
    "\n",
    "img_gray = cv.cvtColor(img, cv.COLOR_BGR2GRAY)\n",
    "cv.imshow('Orig',img_gray)\n",
    "for i in range(50,150,20):\n",
    "    thresh=i\n",
    "    temp = np.copy(img_gray)\n",
    "    #following two steps are reversed for inverse binary thresholding\n",
    "    temp[temp>thresh]=255\n",
    "    temp[temp<=thresh]=0\n",
    "    win_name = 'Thresh'+str(thresh)\n",
    "    cv.imshow(win_name, temp)\n",
    "    \n",
    "cv.waitKey(0)\n",
    "cv.destroyAllWindows()"
   ]
  },
  {
   "cell_type": "code",
   "execution_count": 6,
   "metadata": {},
   "outputs": [],
   "source": [
    "#truncate thresholding, value greater than threshold is set to threshold and if lesser, than value remains same\n",
    "\n",
    "#threshold to zero: values above threshold are left as it is and the values below threshold are set to zero\n",
    "img_gray = cv.cvtColor(cv.imread('hazard10.jpg'),\n",
    "                       cv.COLOR_BGR2GRAY)\n",
    "#truncate:\n",
    "\n",
    "thresh=100\n",
    "tmp = np.copy(img_gray)\n",
    "tmp[tmp>thresh] = thresh\n",
    "cv.imshow('Truncated', tmp)\n",
    "\n",
    "#threshold to zero:\n",
    "\n",
    "tmp = np.copy(img_gray)\n",
    "tmp[tmp<=thresh] = 0\n",
    "cv.imshow('Threshold to zero',tmp)\n",
    "\n",
    "cv.waitKey(0)\n",
    "cv.destroyAllWindows()"
   ]
  },
  {
   "cell_type": "code",
   "execution_count": 13,
   "metadata": {},
   "outputs": [],
   "source": [
    "temp =img\n",
    "temp[temp>80]=255\n",
    "cv.imshow('Experiment',temp)\n",
    "\n",
    "cv.waitKey(0)\n",
    "cv.destroyAllWindows()"
   ]
  },
  {
   "cell_type": "code",
   "execution_count": null,
   "metadata": {},
   "outputs": [],
   "source": []
  }
 ],
 "metadata": {
  "kernelspec": {
   "display_name": "Python 3",
   "language": "python",
   "name": "python3"
  },
  "varInspector": {
   "cols": {
    "lenName": 16,
    "lenType": 16,
    "lenVar": 40
   },
   "kernels_config": {
    "python": {
     "delete_cmd_postfix": "",
     "delete_cmd_prefix": "del ",
     "library": "var_list.py",
     "varRefreshCmd": "print(var_dic_list())"
    },
    "r": {
     "delete_cmd_postfix": ") ",
     "delete_cmd_prefix": "rm(",
     "library": "var_list.r",
     "varRefreshCmd": "cat(var_dic_list()) "
    }
   },
   "types_to_exclude": [
    "module",
    "function",
    "builtin_function_or_method",
    "instance",
    "_Feature"
   ],
   "window_display": false
  }
 },
 "nbformat": 4,
 "nbformat_minor": 2
}
