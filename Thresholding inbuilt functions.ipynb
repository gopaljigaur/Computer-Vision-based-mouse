{
 "cells": [
  {
   "cell_type": "code",
   "execution_count": 2,
   "metadata": {},
   "outputs": [],
   "source": [
    "%matplotlib qt\n",
    "import cv2 as cv\n",
    "import numpy as np\n",
    "from matplotlib import pyplot as plt"
   ]
  },
  {
   "cell_type": "code",
   "execution_count": 13,
   "metadata": {},
   "outputs": [],
   "source": [
    "img = cv.imread('gradient.png')\n",
    "# image, threshold, value to set if greater than threshold, type of thresholding\n",
    "ret,thresh1 = cv.threshold(img, 127, 255,cv.THRESH_BINARY)\n",
    "ret,thresh2 = cv.threshold(img, 127, 255,cv.THRESH_BINARY_INV)\n",
    "ret,thresh3 = cv.threshold(img, 127, 255,cv.THRESH_TRUNC)\n",
    "ret,thresh4 = cv.threshold(img, 127, 255,cv.THRESH_TOZERO)\n",
    "ret,thresh5 = cv.threshold(img, 127, 255,cv.THRESH_TOZERO_INV)\n",
    "strings = ['binary','binary_inv','truncated','threshold to zero','thresh to zero inv']\n",
    "imgs = [thresh1,thresh2,thresh3,thresh4,thresh5]\n",
    "plt.subplot(2,3,1)\n",
    "plt.imshow(img)\n",
    "plt.title('Original')\n",
    "plt.xticks([])\n",
    "plt.yticks([])\n",
    "\n",
    "for i in range(0,5):\n",
    "    plt.subplot(2,3,i+2)\n",
    "    plt.imshow(imgs[i])\n",
    "    plt.title(strings[i])\n",
    "    plt.xticks([])\n",
    "    plt.yticks([])\n",
    "plt.show()\n"
   ]
  },
  {
   "cell_type": "code",
   "execution_count": null,
   "metadata": {},
   "outputs": [],
   "source": []
  }
 ],
 "metadata": {
  "kernelspec": {
   "display_name": "Python 3",
   "language": "python",
   "name": "python3"
  },
  "language_info": {
   "codemirror_mode": {
    "name": "ipython",
    "version": 3
   },
   "file_extension": ".py",
   "mimetype": "text/x-python",
   "name": "python",
   "nbconvert_exporter": "python",
   "pygments_lexer": "ipython3",
   "version": "3.7.4"
  }
 },
 "nbformat": 4,
 "nbformat_minor": 2
}
