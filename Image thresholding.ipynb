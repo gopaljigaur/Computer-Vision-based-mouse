{
 "cells": [
  {
   "cell_type": "code",
   "execution_count": 35,
   "metadata": {},
   "outputs": [],
   "source": [
    "import numpy as np\n",
    "import cv2 as cv"
   ]
  },
  {
   "cell_type": "code",
   "execution_count": 36,
   "metadata": {},
   "outputs": [],
   "source": [
    "#binary thresholding\n",
    "img= cv.imread('hazard10.jpg')\n",
    "\n",
    "img_gray = cv.cvtColor(img, cv.COLOR_BGR2GRAY)\n",
    "cv.imshow('Orig',img_gray)\n",
    "for i in range(50,150,20):\n",
    "    thresh=i\n",
    "    temp = np.copy(img_gray)\n",
    "    #following two steps are reversed for inverse binary thresholding\n",
    "    temp[temp>thresh]=255\n",
    "    temp[temp<=thresh]=0\n",
    "    win_name = 'Thresh'+str(thresh)\n",
    "    cv.imshow(win_name, temp)\n",
    "    \n",
    "cv.waitKey(0)\n",
    "cv.destroyAllWindows()"
   ]
  },
  {
   "cell_type": "code",
   "execution_count": 37,
   "metadata": {},
   "outputs": [],
   "source": [
    "#truncate thresholding, value greater than threshold is set to threshold and if lesser, than value remains same\n",
    "\n",
    "#threshold to zero: values above threshold are left as it is and the values below threshold are set to zero\n",
    "img_gray = cv.cvtColor(cv.imread('hazard10.jpg'),\n",
    "                       cv.COLOR_BGR2GRAY)\n",
    "#truncate:\n",
    "\n",
    "thresh=100\n",
    "tmp = np.copy(img_gray)\n",
    "tmp[tmp>thresh] = thresh\n",
    "cv.imshow('Truncated', tmp)\n",
    "\n",
    "#threshold to zero:\n",
    "\n",
    "tmp = np.copy(img_gray)\n",
    "tmp[tmp<=thresh] = 0\n",
    "cv.imshow('Threshold to zero',tmp)\n",
    "\n",
    "cv.waitKey(0)\n",
    "cv.destroyAllWindows()\n",
    "\n",
    "#inverted thresholding to zero: values greater than thresholdare threshold and lesser than threshold remain same"
   ]
  },
  {
   "cell_type": "code",
   "execution_count": 38,
   "metadata": {},
   "outputs": [
    {
     "name": "stdout",
     "output_type": "stream",
     "text": [
      "(427, 640, 3)\n",
      "129\n"
     ]
    }
   ],
   "source": [
    "temp =img\n",
    "print(temp.shape)\n",
    "print(temp[400][420][1])\n",
    "for i in range(0,427):\n",
    "    for j in range(0,640):\n",
    "        for k in range(0,3):\n",
    "            if temp[i][j][k]==max(temp[i][j]):\n",
    "                temp[i][j][k]=255\n",
    "                break\n",
    "        temp[i][j][temp[i][j]!=255]=0\n",
    "#temp[temp>80]=255\n",
    "#temp[temp<=80]=0\n",
    "cv.imshow('Experiment',temp)\n",
    "\n",
    "cv.waitKey(0)\n",
    "cv.destroyAllWindows()"
   ]
  },
  {
   "cell_type": "markdown",
   "metadata": {},
   "source": [
    "#### Adaptive thresholding: different threshold for different regions of image to tackle varying lighting conditions\n",
    "ADAPTIVE_THRESH_MEAN_C - mean of neighbourhood\n",
    "ADAPTIVE_THRESH_GAUSSIAN_C - weighted sum of neighborhood values where weights are gaussian windows"
   ]
  },
  {
   "cell_type": "code",
   "execution_count": 40,
   "metadata": {},
   "outputs": [],
   "source": [
    "#Blurring techniques (noise reduction)\n",
    "\n",
    "#Averaging using kernel\n",
    "#Gaussian blurring - using gaussian weights\n",
    "#Median blur - Replace central pixel wih median (salt and pepper noise)\n",
    "#bilateral filtering - 2D gaussian filter (weights determined by space and intensity)\n"
   ]
  },
  {
   "cell_type": "markdown",
   "metadata": {},
   "source": [
    "#Canny edge detection\n",
    "Steps involved:\n",
    "    1. Noise reduction (5x5 gaussian filter)\n",
    "    2. Find intensity gradient (first derivative of pixel intensity) (how intensity changes with movement along horizontal or verical or along two diagonal in the image)\n",
    "    3. The gradient is rounded off to near the x axis y axis and the twodiagonal axes\n",
    "    4. Find local maxima (derivative is more when there is sudden change in pixel intesity (edge is encountered))\n",
    "    5. Hysterisis Thresholding : Final step to decide if the edges were detected correctly (minVal and maxVal values are set. If greater than maxVal then it is surely an edge. If below minVal= no edge. If between these two then connectivity with other edges is determined to continue the edge trace)\n",
    "        \n",
    "        "
   ]
  },
  {
   "cell_type": "code",
   "execution_count": null,
   "metadata": {},
   "outputs": [],
   "source": []
  }
 ],
 "metadata": {
  "kernelspec": {
   "display_name": "Python 3",
   "language": "python",
   "name": "python3"
  },
  "language_info": {
   "codemirror_mode": {
    "name": "ipython",
    "version": 3
   },
   "file_extension": ".py",
   "mimetype": "text/x-python",
   "name": "python",
   "nbconvert_exporter": "python",
   "pygments_lexer": "ipython3",
   "version": "3.7.4"
  },
  "varInspector": {
   "cols": {
    "lenName": 16,
    "lenType": 16,
    "lenVar": 40
   },
   "kernels_config": {
    "python": {
     "delete_cmd_postfix": "",
     "delete_cmd_prefix": "del ",
     "library": "var_list.py",
     "varRefreshCmd": "print(var_dic_list())"
    },
    "r": {
     "delete_cmd_postfix": ") ",
     "delete_cmd_prefix": "rm(",
     "library": "var_list.r",
     "varRefreshCmd": "cat(var_dic_list()) "
    }
   },
   "types_to_exclude": [
    "module",
    "function",
    "builtin_function_or_method",
    "instance",
    "_Feature"
   ],
   "window_display": false
  }
 },
 "nbformat": 4,
 "nbformat_minor": 2
}
