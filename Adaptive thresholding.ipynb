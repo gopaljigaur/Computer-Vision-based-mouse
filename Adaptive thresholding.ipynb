{
 "cells": [
  {
   "cell_type": "code",
   "execution_count": 12,
   "metadata": {},
   "outputs": [],
   "source": [
    "import cv2 as cv\n",
    "import numpy as np"
   ]
  },
  {
   "cell_type": "code",
   "execution_count": 16,
   "metadata": {},
   "outputs": [],
   "source": [
    "img_orig = cv.imread('sudoku.png',cv.IMREAD_GRAYSCALE)\n",
    "img = cv.medianBlur(img_orig,5)\n",
    "\n",
    "ret, th1 = cv.threshold(img,127,255,cv.THRESH_BINARY)\n",
    "#image, value to set, adaptive method, threshold algorithm, pixel neighborhood, constant to subtract from pixel values\n",
    "th2 = cv.adaptiveThreshold(img,255,cv.ADAPTIVE_THRESH_MEAN_C,\n",
    "                          cv.THRESH_BINARY,11,2)\n",
    "th3 = cv.adaptiveThreshold(img,255,cv.ADAPTIVE_THRESH_GAUSSIAN_C,\n",
    "                          cv.THRESH_BINARY,11,2)\n",
    "cv.imshow('Original',img)\n",
    "cv.imshow('Thresholded',th1)\n",
    "cv.imshow('Adaptive mean',th2)\n",
    "cv.imshow('Adaptive gaussian',th3)\n",
    "cv.waitKey(0)\n",
    "cv.destroyAllWindows()"
   ]
  },
  {
   "cell_type": "code",
   "execution_count": null,
   "metadata": {},
   "outputs": [],
   "source": []
  }
 ],
 "metadata": {
  "kernelspec": {
   "display_name": "Python 3",
   "language": "python",
   "name": "python3"
  },
  "language_info": {
   "codemirror_mode": {
    "name": "ipython",
    "version": 3
   },
   "file_extension": ".py",
   "mimetype": "text/x-python",
   "name": "python",
   "nbconvert_exporter": "python",
   "pygments_lexer": "ipython3",
   "version": "3.7.4"
  }
 },
 "nbformat": 4,
 "nbformat_minor": 2
}
