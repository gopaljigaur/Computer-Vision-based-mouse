{
 "cells": [
  {
   "cell_type": "code",
   "execution_count": 1,
   "metadata": {},
   "outputs": [],
   "source": [
    "import numpy as np\n",
    "import cv2 as cv"
   ]
  },
  {
   "cell_type": "code",
   "execution_count": 2,
   "metadata": {},
   "outputs": [],
   "source": [
    "img=cv.imread('hazard10.jpg')"
   ]
  },
  {
   "cell_type": "code",
   "execution_count": 3,
   "metadata": {},
   "outputs": [
    {
     "name": "stdout",
     "output_type": "stream",
     "text": [
      "The shape of the image is : \n",
      "(427, 640, 3)\n",
      "the size of image : \n",
      "819840\n"
     ]
    }
   ],
   "source": [
    "cv.imshow('BGR',img)\n",
    "print('The shape of the image is : ')\n",
    "print(img.shape)\n",
    "print('the size of image : ')\n",
    "print(img.size)\n",
    "\n",
    "cv.waitKey(0)\n",
    "cv.destroyAllWindows()"
   ]
  },
  {
   "cell_type": "code",
   "execution_count": 4,
   "metadata": {},
   "outputs": [
    {
     "name": "stdout",
     "output_type": "stream",
     "text": [
      "The shape of the image is : \n",
      "(427, 640)\n",
      "the size of image : \n",
      "273280\n"
     ]
    }
   ],
   "source": [
    "#cvtcolor - for converting color space\n",
    "img_gray = cv.cvtColor(img,cv.COLOR_BGR2GRAY)\n",
    "\n",
    "cv.imshow('GRAY',img_gray)\n",
    "print('The shape of the image is : ')\n",
    "print(img_gray.shape)\n",
    "print('the size of image : ')\n",
    "print(img_gray.size)\n",
    "\n",
    "cv.waitKey(0)\n",
    "cv.destroyAllWindows()"
   ]
  },
  {
   "cell_type": "code",
   "execution_count": 5,
   "metadata": {},
   "outputs": [
    {
     "name": "stdout",
     "output_type": "stream",
     "text": [
      "The shape of the image is : \n",
      "(427, 640, 3)\n",
      "the size of image : \n",
      "819840\n"
     ]
    }
   ],
   "source": [
    "#bgr to hsv\n",
    "\n",
    "img_hsv = cv.cvtColor(img,cv.COLOR_BGR2HSV)\n",
    "\n",
    "cv.imshow('HSV',img_hsv)\n",
    "print('The shape of the image is : ')\n",
    "print(img_hsv.shape)\n",
    "print('the size of image : ')\n",
    "print(img_hsv.size)\n",
    "\n",
    "cv.waitKey(0)\n",
    "cv.destroyAllWindows()"
   ]
  },
  {
   "cell_type": "code",
   "execution_count": null,
   "metadata": {},
   "outputs": [],
   "source": []
  }
 ],
 "metadata": {
  "kernelspec": {
   "display_name": "Python 3",
   "language": "python",
   "name": "python3"
  },
  "language_info": {
   "codemirror_mode": {
    "name": "ipython",
    "version": 3
   },
   "file_extension": ".py",
   "mimetype": "text/x-python",
   "name": "python",
   "nbconvert_exporter": "python",
   "pygments_lexer": "ipython3",
   "version": "3.7.4"
  }
 },
 "nbformat": 4,
 "nbformat_minor": 2
}
