{
 "cells": [
  {
   "cell_type": "code",
   "execution_count": 1,
   "metadata": {},
   "outputs": [],
   "source": [
    "%matplotlib qt\n",
    "import cv2 as cv\n",
    "import numpy as np\n",
    "from matplotlib import pyplot as plt"
   ]
  },
  {
   "cell_type": "code",
   "execution_count": 20,
   "metadata": {},
   "outputs": [
    {
     "name": "stdout",
     "output_type": "stream",
     "text": [
      "Contour centroid (55, 218)\n",
      "Contour Area 8785.0\n",
      "Contour Perimeter 388.7350620031357\n"
     ]
    }
   ],
   "source": [
    "img = cv.imread('pic1.png')\n",
    "img_gray=cv.cvtColor(img,cv.COLOR_BGR2GRAY)\n",
    "ret, thresh = cv.threshold(img_gray, 127,255,cv.THRESH_BINARY)\n",
    "contours,hierarchy = cv.findContours(thresh,cv.RETR_TREE,cv.CHAIN_APPROX_SIMPLE) \n",
    "cnt = contours[6]\n",
    "cv.drawContours(img,[cnt],0,(0,255,0),3)\n",
    "#calculating all moments of a particular contour (dictionary)\n",
    "M=cv.moments(cnt)\n",
    "#calculating centroid\n",
    "cx = int(M['m10']/M['m00'])\n",
    "cy = int(M['m01']/M['m00'])\n",
    "print('Contour centroid',(cx,cy))\n",
    "#calculating contour area\n",
    "A = cv.contourArea(cnt)\n",
    "print('Contour Area',A)\n",
    "#calculating perimeter\n",
    "P = cv.arcLength(cnt,True) #contour and (closed=?)\n",
    "print('Contour Perimeter',P)\n",
    "#bounding rectangle\n",
    "x,y,w,h = cv.boundingRect(cnt)\n",
    "#needs opposite vertices\n",
    "cv.rectangle(img,(x,y),(x+w,y+h),(0,0,255),2)\n",
    "\n",
    "#circumcircle\n",
    "(x,y),radius = cv.minEnclosingCircle(cnt)\n",
    "center=(int(x),int(y))\n",
    "radius=int(radius)\n",
    "cv.circle(img,center,radius,(255,0,0),2)\n",
    "\n",
    "cv.imshow('Image',img)\n",
    "cv.waitKey(0)\n",
    "cv.destroyAllWindows()"
   ]
  },
  {
   "cell_type": "code",
   "execution_count": null,
   "metadata": {},
   "outputs": [],
   "source": []
  }
 ],
 "metadata": {
  "kernelspec": {
   "display_name": "Python 3",
   "language": "python",
   "name": "python3"
  },
  "language_info": {
   "codemirror_mode": {
    "name": "ipython",
    "version": 3
   },
   "file_extension": ".py",
   "mimetype": "text/x-python",
   "name": "python",
   "nbconvert_exporter": "python",
   "pygments_lexer": "ipython3",
   "version": "3.7.4"
  },
  "varInspector": {
   "cols": {
    "lenName": 16,
    "lenType": 16,
    "lenVar": 40
   },
   "kernels_config": {
    "python": {
     "delete_cmd_postfix": "",
     "delete_cmd_prefix": "del ",
     "library": "var_list.py",
     "varRefreshCmd": "print(var_dic_list())"
    },
    "r": {
     "delete_cmd_postfix": ") ",
     "delete_cmd_prefix": "rm(",
     "library": "var_list.r",
     "varRefreshCmd": "cat(var_dic_list()) "
    }
   },
   "types_to_exclude": [
    "module",
    "function",
    "builtin_function_or_method",
    "instance",
    "_Feature"
   ],
   "window_display": false
  }
 },
 "nbformat": 4,
 "nbformat_minor": 2
}
