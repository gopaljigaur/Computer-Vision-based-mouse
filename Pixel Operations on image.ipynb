{
 "cells": [
  {
   "cell_type": "code",
   "execution_count": 2,
   "metadata": {},
   "outputs": [],
   "source": [
    "import cv2 as cv\n",
    "import numpy as np"
   ]
  },
  {
   "cell_type": "code",
   "execution_count": 3,
   "metadata": {},
   "outputs": [],
   "source": [
    "img= cv.imread('hazard10.jpg')\n",
    "cv.imshow('image',img)\n",
    "cv.waitKey(0)\n",
    "cv.destroyAllWindows()"
   ]
  },
  {
   "cell_type": "code",
   "execution_count": 4,
   "metadata": {},
   "outputs": [
    {
     "name": "stdout",
     "output_type": "stream",
     "text": [
      "The Shape of image is : \n",
      "(427, 640, 3)\n",
      "The size of image is : \n",
      "819840\n",
      "The datatype of pixel values in the image is : \n",
      "uint8\n"
     ]
    }
   ],
   "source": [
    "#row columns and channels\n",
    "print('The Shape of image is : ')\n",
    "print(img.shape)\n",
    "#total number of array elements in the image\n",
    "print('The size of image is : ')\n",
    "print(img.size)\n",
    "\n",
    "print('The datatype of pixel values in the image is : ')\n",
    "print(img.dtype)"
   ]
  },
  {
   "cell_type": "code",
   "execution_count": 5,
   "metadata": {},
   "outputs": [
    {
     "name": "stdout",
     "output_type": "stream",
     "text": [
      "value of pixel at 100x100 is \n",
      "[94 62 43]\n"
     ]
    }
   ],
   "source": [
    "#accessing a pixel value BGR image\n",
    "px= img[100,100]\n",
    "print('value of pixel at 100x100 is ')\n",
    "print(px)"
   ]
  },
  {
   "cell_type": "code",
   "execution_count": 6,
   "metadata": {},
   "outputs": [
    {
     "name": "stdout",
     "output_type": "stream",
     "text": [
      "blue value of pixel at 100x100 is \n",
      "94\n"
     ]
    }
   ],
   "source": [
    "blue= img[100,100,0]\n",
    "print('blue value of pixel at 100x100 is ')\n",
    "print(blue)"
   ]
  },
  {
   "cell_type": "code",
   "execution_count": 7,
   "metadata": {},
   "outputs": [],
   "source": [
    "#changing color at 100x100\n",
    "\n",
    "img[100,100]=[255,255,255]\n",
    "\n",
    "cv.imshow('Image',img)\n",
    "cv.waitKey(0)\n",
    "cv.destroyAllWindows()"
   ]
  },
  {
   "cell_type": "code",
   "execution_count": null,
   "metadata": {},
   "outputs": [],
   "source": []
  }
 ],
 "metadata": {
  "kernelspec": {
   "display_name": "Python 3",
   "language": "python",
   "name": "python3"
  },
  "language_info": {
   "codemirror_mode": {
    "name": "ipython",
    "version": 3
   },
   "file_extension": ".py",
   "mimetype": "text/x-python",
   "name": "python",
   "nbconvert_exporter": "python",
   "pygments_lexer": "ipython3",
   "version": "3.7.4"
  }
 },
 "nbformat": 4,
 "nbformat_minor": 2
}
