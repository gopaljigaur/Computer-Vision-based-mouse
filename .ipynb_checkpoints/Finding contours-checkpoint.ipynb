{
 "cells": [
  {
   "cell_type": "code",
   "execution_count": 2,
   "metadata": {},
   "outputs": [],
   "source": [
    "%matplotlib qt\n",
    "import cv2 as cv\n",
    "import numpy as np\n",
    "from matplotlib import pyplot as plt"
   ]
  },
  {
   "cell_type": "code",
   "execution_count": 22,
   "metadata": {},
   "outputs": [],
   "source": [
    "img =cv.imread('pic1.png')\n",
    "cv.imshow('Image',img)\n",
    "# objects to be found should be white and bg should be black so cvt color to binary\n",
    "# this means there needs to be high contrast between the object to be detected and bg\n",
    "\n",
    "img_gray = cv.cvtColor(img, cv.COLOR_BGR2GRAY)\n",
    "ret, thresh  = cv.threshold(img_gray,127,255,cv.THRESH_BINARY)\n",
    "cv.imshow('Binary',thresh)\n",
    "\n",
    "\n",
    "# image, contour retrival method, contour approximation method\n",
    "contours, hierarchy = cv.findContours(thresh, cv.RETR_TREE,cv.CHAIN_APPROX_SIMPLE)\n",
    "# contours - list of all contours (numpy array of x,y coordinates of boundary points)\n",
    "# hierarchy - in case of countours inside countours, this variable describes the relation between parent and child contours\n",
    "# retrival mode - RETR_LIST : retrives all contours without hierarchial info\n",
    "# RETR_TREE : retrives the hierarchial relations also\n",
    "# contour approxiamtion methods : CHAIN_APPROX_NONE - retrives all contour points\n",
    "# CHAIN_APPROX_SIMPLE - retrieves only the endpoints of the contours\n",
    "\n",
    "# drawing contours - cv.drawContours()\n",
    "# image, contours array, contour index(-1 for all), color (BGR), thickness\n",
    "# cv.drawContours(img, contours, 4, (0,255,0), 3)\n",
    "# cv.drawContours(img, contours, -1, (0,255,0), 3)\n",
    "cnt= contours[10]\n",
    "\n",
    "cv.drawContours(img, [cnt], 0, (0,255,0), 3)\n",
    "cv.imshow('Contours',img)\n",
    "\n",
    "cv.waitKey(0)\n",
    "cv.destroyAllWindows()"
   ]
  },
  {
   "cell_type": "code",
   "execution_count": null,
   "metadata": {},
   "outputs": [],
   "source": []
  }
 ],
 "metadata": {
  "kernelspec": {
   "display_name": "Python 3",
   "language": "python",
   "name": "python3"
  },
  "language_info": {
   "codemirror_mode": {
    "name": "ipython",
    "version": 3
   },
   "file_extension": ".py",
   "mimetype": "text/x-python",
   "name": "python",
   "nbconvert_exporter": "python",
   "pygments_lexer": "ipython3",
   "version": "3.7.4"
  }
 },
 "nbformat": 4,
 "nbformat_minor": 4
}
