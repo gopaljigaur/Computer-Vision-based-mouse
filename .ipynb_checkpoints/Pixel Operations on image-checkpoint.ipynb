{
 "cells": [
  {
   "cell_type": "code",
   "execution_count": 2,
   "metadata": {},
   "outputs": [],
   "source": [
    "import cv2 as cv\n",
    "import numpy as np"
   ]
  },
  {
   "cell_type": "code",
   "execution_count": 3,
   "metadata": {},
   "outputs": [],
   "source": [
    "img= cv.imread('hazard10.jpg')\n",
    "cv.imshow('image',img)\n",
    "cv.waitKey(0)\n",
    "cv.destroyAllWindows()"
   ]
  },
  {
   "cell_type": "code",
   "execution_count": 4,
   "metadata": {},
   "outputs": [
    {
     "name": "stdout",
     "output_type": "stream",
     "text": [
      "The Shape of image is : \n",
      "(427, 640, 3)\n",
      "The size of image is : \n",
      "819840\n",
      "The datatype of pixel values in the image is : \n",
      "uint8\n"
     ]
    }
   ],
   "source": [
    "#row columns and channels\n",
    "print('The Shape of image is : ')\n",
    "print(img.shape)\n",
    "#total number of array elements in the image\n",
    "print('The size of image is : ')\n",
    "print(img.size)\n",
    "\n",
    "print('The datatype of pixel values in the image is : ')\n",
    "print(img.dtype)"
   ]
  },
  {
   "cell_type": "code",
   "execution_count": null,
   "metadata": {},
   "outputs": [],
   "source": []
  }
 ],
 "metadata": {
  "kernelspec": {
   "display_name": "Python 3",
   "language": "python",
   "name": "python3"
  },
  "language_info": {
   "codemirror_mode": {
    "name": "ipython",
    "version": 3
   },
   "file_extension": ".py",
   "mimetype": "text/x-python",
   "name": "python",
   "nbconvert_exporter": "python",
   "pygments_lexer": "ipython3",
   "version": "3.7.4"
  }
 },
 "nbformat": 4,
 "nbformat_minor": 2
}
